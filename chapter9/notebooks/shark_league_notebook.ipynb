{
 "cells": [
  {
   "cell_type": "markdown",
   "id": "2beee8c5",
   "metadata": {},
   "source": [
    "# Shark League Metric "
   ]
  },
  {
   "cell_type": "markdown",
   "id": "2da4765b",
   "metadata": {},
   "source": [
    "## Import Python libraries"
   ]
  },
  {
   "cell_type": "code",
   "execution_count": 4,
   "id": "e8bcf592",
   "metadata": {},
   "outputs": [],
   "source": [
    "import pandas as pd\n",
    "import logging\n",
    "import swc_simple_client as swc"
   ]
  },
  {
   "cell_type": "markdown",
   "id": "bd6a4011",
   "metadata": {},
   "source": [
    "## Configure logging"
   ]
  },
  {
   "cell_type": "code",
   "execution_count": null,
   "id": "1633f331",
   "metadata": {},
   "outputs": [
    {
     "name": "stderr",
     "output_type": "stream",
     "text": [
      "Bad pipe message: %s [b'0.9,image/avif,image/webp,image/apng,*/*;q=0.8,application/signed-exchange;v=b3;q=0.7\\r\\nHost: localhost:33391\\r\\nUs', b'-Agent: Mozilla/5.0 (Windows NT 10.0; Win64; x64) AppleWebKit/537.36 (KHTML, like Gecko) Chrome/133.']\n",
      "Bad pipe message: %s [b'0.0 Safari/537.36\\r\\nAccept-Encoding: gzip, defla']\n",
      "Bad pipe message: %s [b', br, zstd\\r\\nAccept-Language: en-US,en;q=0.9\\r\\nCache-Control: max-age=0\\r\\nReferer: https://github.com/\\r\\nX-Request-ID: ', b'bf64185bf4a19a384019c1e7b502c2\\r\\nX-Real-IP: 95.223.44.1']\n",
      "Bad pipe message: %s [b'\\r\\nX-Forwarded-Port: 443\\r\\nX-Forwarded-Scheme: https']\n",
      "Bad pipe message: %s [b'X-Original-U']\n"
     ]
    }
   ],
   "source": [
    "for handler in logging.root.handlers[:]:\n",
    "    logging.root.removeHandler(handler)\n",
    "\n",
    "logging.basicConfig(\n",
    "    filename='shark_notebook.log',  \n",
    "    level=logging.INFO,  \n",
    ")"
   ]
  },
  {
   "cell_type": "markdown",
   "id": "1b0a6ae0",
   "metadata": {},
   "source": [
    "## Setup notebook variables"
   ]
  },
  {
   "cell_type": "code",
   "execution_count": 6,
   "id": "b2dd735e",
   "metadata": {},
   "outputs": [],
   "source": [
    "base_url = \"https://fuzzy-pancake-g6qvg4574vxfw56j-33391.app.github.dev/\""
   ]
  },
  {
   "cell_type": "markdown",
   "id": "7293ef13",
   "metadata": {},
   "source": [
    "## Get Max Scores"
   ]
  },
  {
   "cell_type": "markdown",
   "id": "357e1231",
   "metadata": {},
   "source": [
    "### Use endpoint: LIST_WEEKS_ENDPOINT"
   ]
  }
 ],
 "metadata": {
  "kernelspec": {
   "display_name": ".venv",
   "language": "python",
   "name": "python3"
  },
  "language_info": {
   "codemirror_mode": {
    "name": "ipython",
    "version": 3
   },
   "file_extension": ".py",
   "mimetype": "text/x-python",
   "name": "python",
   "nbconvert_exporter": "python",
   "pygments_lexer": "ipython3",
   "version": "3.12.1"
  }
 },
 "nbformat": 4,
 "nbformat_minor": 5
}
