{
 "cells": [
  {
   "cell_type": "markdown",
   "id": "2beee8c5",
   "metadata": {},
   "source": [
    "# Shark League Metric "
   ]
  },
  {
   "cell_type": "markdown",
   "id": "2da4765b",
   "metadata": {},
   "source": [
    "## Import Python libraries"
   ]
  },
  {
   "cell_type": "code",
   "execution_count": 1,
   "id": "e8bcf592",
   "metadata": {},
   "outputs": [],
   "source": [
    "import pandas as pd\n",
    "import logging\n",
    "import swc_simple_client as swc"
   ]
  },
  {
   "cell_type": "markdown",
   "id": "bd6a4011",
   "metadata": {},
   "source": [
    "## Configure logging"
   ]
  },
  {
   "cell_type": "code",
   "execution_count": 2,
   "id": "1633f331",
   "metadata": {},
   "outputs": [],
   "source": [
    "for handler in logging.root.handlers[:]:\n",
    "    logging.root.removeHandler(handler)\n",
    "\n",
    "logging.basicConfig(\n",
    "    filename='shark_notebook.log',  \n",
    "    level=logging.INFO,  \n",
    ")"
   ]
  },
  {
   "cell_type": "markdown",
   "id": "1b0a6ae0",
   "metadata": {},
   "source": [
    "## Setup notebook variables"
   ]
  },
  {
   "cell_type": "code",
   "execution_count": 3,
   "id": "b2dd735e",
   "metadata": {},
   "outputs": [],
   "source": [
    "base_url = \"https://fuzzy-pancake-g6qvg4574vxfw56j-8000.app.github.dev/\""
   ]
  },
  {
   "cell_type": "markdown",
   "id": "7293ef13",
   "metadata": {},
   "source": [
    "## Get Max Scores"
   ]
  },
  {
   "cell_type": "markdown",
   "id": "357e1231",
   "metadata": {},
   "source": [
    "### Use endpoint: LIST_WEEKS_ENDPOINT"
   ]
  },
  {
   "cell_type": "code",
   "execution_count": 4,
   "id": "aff6738d",
   "metadata": {},
   "outputs": [
    {
     "data": {
      "text/html": [
       "<div>\n",
       "<style scoped>\n",
       "    .dataframe tbody tr th:only-of-type {\n",
       "        vertical-align: middle;\n",
       "    }\n",
       "\n",
       "    .dataframe tbody tr th {\n",
       "        vertical-align: top;\n",
       "    }\n",
       "\n",
       "    .dataframe thead th {\n",
       "        text-align: right;\n",
       "    }\n",
       "</style>\n",
       "<table border=\"1\" class=\"dataframe\">\n",
       "  <thead>\n",
       "    <tr style=\"text-align: right;\">\n",
       "      <th></th>\n",
       "      <th>ppr_12_max_points</th>\n",
       "      <th>half_ppr_8_max_points</th>\n",
       "    </tr>\n",
       "    <tr>\n",
       "      <th>year</th>\n",
       "      <th></th>\n",
       "      <th></th>\n",
       "    </tr>\n",
       "  </thead>\n",
       "  <tbody>\n",
       "    <tr>\n",
       "      <th>2023</th>\n",
       "      <td>22570.0</td>\n",
       "      <td>15401.0</td>\n",
       "    </tr>\n",
       "  </tbody>\n",
       "</table>\n",
       "</div>"
      ],
      "text/plain": [
       "      ppr_12_max_points  half_ppr_8_max_points\n",
       "year                                          \n",
       "2023            22570.0                15401.0"
      ]
     },
     "metadata": {},
     "output_type": "display_data"
    }
   ],
   "source": [
    "week_api_response = swc.call_api_endpoint(base_url,swc.LIST_WEEKS_ENDPOINT)\n",
    "weeks_df = pd.DataFrame(week_api_response.json()) \n",
    "weeks_df['year'] = weeks_df['week_number'].str.slice(0, 4).astype(int)\n",
    "max_totals_grouped_df = weeks_df.groupby('year').agg( \n",
    "    ppr_12_max_points=('ppr_12_max_points', 'sum'),\n",
    "    half_ppr_8_max_points=('half_ppr_8_max_points', 'sum'))\n",
    "display(max_totals_grouped_df)"
   ]
  },
  {
   "cell_type": "markdown",
   "id": "148435da",
   "metadata": {},
   "source": [
    "## Get League Scoring Type\n",
    "### Use Endpoint: LIST_LEAGUES_ENDPOINT"
   ]
  },
  {
   "cell_type": "code",
   "execution_count": 6,
   "id": "39b3d394",
   "metadata": {},
   "outputs": [
    {
     "data": {
      "text/html": [
       "<div>\n",
       "<style scoped>\n",
       "    .dataframe tbody tr th:only-of-type {\n",
       "        vertical-align: middle;\n",
       "    }\n",
       "\n",
       "    .dataframe tbody tr th {\n",
       "        vertical-align: top;\n",
       "    }\n",
       "\n",
       "    .dataframe thead th {\n",
       "        text-align: right;\n",
       "    }\n",
       "</style>\n",
       "<table border=\"1\" class=\"dataframe\">\n",
       "  <thead>\n",
       "    <tr style=\"text-align: right;\">\n",
       "      <th></th>\n",
       "      <th>league_id</th>\n",
       "      <th>league_name</th>\n",
       "      <th>scoring_type</th>\n",
       "      <th>league_size</th>\n",
       "    </tr>\n",
       "  </thead>\n",
       "  <tbody>\n",
       "    <tr>\n",
       "      <th>0</th>\n",
       "      <td>5001</td>\n",
       "      <td>Pigskin Prodigal Fantasy League</td>\n",
       "      <td>PPR</td>\n",
       "      <td>12</td>\n",
       "    </tr>\n",
       "    <tr>\n",
       "      <th>1</th>\n",
       "      <td>5002</td>\n",
       "      <td>Recurring Champions League</td>\n",
       "      <td>Half-PPR</td>\n",
       "      <td>8</td>\n",
       "    </tr>\n",
       "    <tr>\n",
       "      <th>2</th>\n",
       "      <td>5003</td>\n",
       "      <td>AHAHFZZFFFL</td>\n",
       "      <td>Half-PPR</td>\n",
       "      <td>8</td>\n",
       "    </tr>\n",
       "    <tr>\n",
       "      <th>3</th>\n",
       "      <td>5004</td>\n",
       "      <td>Gridiron Gurus Fantasy League</td>\n",
       "      <td>PPR</td>\n",
       "      <td>12</td>\n",
       "    </tr>\n",
       "    <tr>\n",
       "      <th>4</th>\n",
       "      <td>5005</td>\n",
       "      <td>Best League Ever</td>\n",
       "      <td>PPR</td>\n",
       "      <td>12</td>\n",
       "    </tr>\n",
       "  </tbody>\n",
       "</table>\n",
       "</div>"
      ],
      "text/plain": [
       "   league_id                      league_name scoring_type  league_size\n",
       "0       5001  Pigskin Prodigal Fantasy League          PPR           12\n",
       "1       5002       Recurring Champions League     Half-PPR            8\n",
       "2       5003                      AHAHFZZFFFL     Half-PPR            8\n",
       "3       5004    Gridiron Gurus Fantasy League          PPR           12\n",
       "4       5005                 Best League Ever          PPR           12"
      ]
     },
     "metadata": {},
     "output_type": "display_data"
    }
   ],
   "source": [
    "league_api_response = swc.call_api_endpoint(base_url,swc.LIST_LEAGUES_ENDPOINT)\n",
    "leagues_df = pd.DataFrame(league_api_response.json())\n",
    "leagues_df = leagues_df.drop(columns=['teams','last_changed_date']) \n",
    "display(leagues_df)"
   ]
  }
 ],
 "metadata": {
  "kernelspec": {
   "display_name": ".venv",
   "language": "python",
   "name": "python3"
  },
  "language_info": {
   "codemirror_mode": {
    "name": "ipython",
    "version": 3
   },
   "file_extension": ".py",
   "mimetype": "text/x-python",
   "name": "python",
   "nbconvert_exporter": "python",
   "pygments_lexer": "ipython3",
   "version": "3.12.1"
  }
 },
 "nbformat": 4,
 "nbformat_minor": 5
}
