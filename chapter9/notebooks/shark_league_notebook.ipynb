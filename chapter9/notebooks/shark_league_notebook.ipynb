{
 "cells": [
  {
   "cell_type": "markdown",
   "id": "2beee8c5",
   "metadata": {},
   "source": [
    "# Shark League Metric "
   ]
  },
  {
   "cell_type": "markdown",
   "id": "2da4765b",
   "metadata": {},
   "source": [
    "## Import Python libraries"
   ]
  },
  {
   "cell_type": "code",
   "execution_count": 9,
   "id": "e8bcf592",
   "metadata": {},
   "outputs": [],
   "source": [
    "import pandas as pd\n",
    "import logging\n",
    "import swc_simple_client as swc"
   ]
  },
  {
   "cell_type": "markdown",
   "id": "bd6a4011",
   "metadata": {},
   "source": [
    "## Configure logging"
   ]
  },
  {
   "cell_type": "code",
   "execution_count": 10,
   "id": "1633f331",
   "metadata": {},
   "outputs": [],
   "source": [
    "for handler in logging.root.handlers[:]:\n",
    "    logging.root.removeHandler(handler)\n",
    "\n",
    "logging.basicConfig(\n",
    "    filename='shark_notebook.log',  \n",
    "    level=logging.INFO,  \n",
    ")"
   ]
  },
  {
   "cell_type": "markdown",
   "id": "1b0a6ae0",
   "metadata": {},
   "source": [
    "## Setup notebook variables"
   ]
  },
  {
   "cell_type": "code",
   "execution_count": 11,
   "id": "b2dd735e",
   "metadata": {},
   "outputs": [],
   "source": [
    "base_url = \"https://fuzzy-pancake-g6qvg4574vxfw56j-8000.app.github.dev/\""
   ]
  },
  {
   "cell_type": "markdown",
   "id": "7293ef13",
   "metadata": {},
   "source": [
    "## Get Max Scores"
   ]
  },
  {
   "cell_type": "markdown",
   "id": "357e1231",
   "metadata": {},
   "source": [
    "### Use endpoint: LIST_WEEKS_ENDPOINT"
   ]
  },
  {
   "cell_type": "code",
   "execution_count": 23,
   "id": "aff6738d",
   "metadata": {},
   "outputs": [
    {
     "data": {
      "text/html": [
       "<div>\n",
       "<style scoped>\n",
       "    .dataframe tbody tr th:only-of-type {\n",
       "        vertical-align: middle;\n",
       "    }\n",
       "\n",
       "    .dataframe tbody tr th {\n",
       "        vertical-align: top;\n",
       "    }\n",
       "\n",
       "    .dataframe thead th {\n",
       "        text-align: right;\n",
       "    }\n",
       "</style>\n",
       "<table border=\"1\" class=\"dataframe\">\n",
       "  <thead>\n",
       "    <tr style=\"text-align: right;\">\n",
       "      <th></th>\n",
       "      <th>ppr_12_max_points</th>\n",
       "      <th>half_ppr_8_max_points</th>\n",
       "    </tr>\n",
       "    <tr>\n",
       "      <th>year</th>\n",
       "      <th></th>\n",
       "      <th></th>\n",
       "    </tr>\n",
       "  </thead>\n",
       "  <tbody>\n",
       "    <tr>\n",
       "      <th>2023</th>\n",
       "      <td>22570.0</td>\n",
       "      <td>15401.0</td>\n",
       "    </tr>\n",
       "  </tbody>\n",
       "</table>\n",
       "</div>"
      ],
      "text/plain": [
       "      ppr_12_max_points  half_ppr_8_max_points\n",
       "year                                          \n",
       "2023            22570.0                15401.0"
      ]
     },
     "metadata": {},
     "output_type": "display_data"
    }
   ],
   "source": [
    "week_api_response = swc.call_api_endpoint(base_url,swc.LIST_WEEKS_ENDPOINT)\n",
    "weeks_df = pd.DataFrame(week_api_response.json()) \n",
    "weeks_df['year'] = weeks_df['week_number'].str.slice(0, 4).astype(int)\n",
    "max_totals_grouped_df = weeks_df.groupby('year').agg( \n",
    "    ppr_12_max_points=('ppr_12_max_points', 'sum'),\n",
    "    half_ppr_8_max_points=('half_ppr_8_max_points', 'sum'))\n",
    "display(max_totals_grouped_df)"
   ]
  }
 ],
 "metadata": {
  "kernelspec": {
   "display_name": ".venv",
   "language": "python",
   "name": "python3"
  },
  "language_info": {
   "codemirror_mode": {
    "name": "ipython",
    "version": 3
   },
   "file_extension": ".py",
   "mimetype": "text/x-python",
   "name": "python",
   "nbconvert_exporter": "python",
   "pygments_lexer": "ipython3",
   "version": "3.12.1"
  }
 },
 "nbformat": 4,
 "nbformat_minor": 5
}
