{
 "cells": [
  {
   "cell_type": "markdown",
   "metadata": {},
   "source": [
    "# Shark League Metric "
   ]
  },
  {
   "cell_type": "markdown",
   "metadata": {},
   "source": [
    "## Import Python libraries"
   ]
  },
  {
   "cell_type": "code",
   "execution_count": 1,
   "metadata": {},
   "outputs": [],
   "source": [
    "import pandas as pd\n",
    "import logging\n",
    "import swc_simple_client as swc"
   ]
  },
  {
   "cell_type": "markdown",
   "metadata": {},
   "source": [
    "## Configure logging"
   ]
  },
  {
   "cell_type": "code",
   "execution_count": 2,
   "metadata": {},
   "outputs": [],
   "source": [
    "for handler in logging.root.handlers[:]:\n",
    "    logging.root.removeHandler(handler)\n",
    "\n",
    "logging.basicConfig(\n",
    "    filename='shark_notebook.log',  \n",
    "    level=logging.INFO,  \n",
    ")"
   ]
  },
  {
   "cell_type": "markdown",
   "metadata": {},
   "source": [
    "## Setup notebook variables"
   ]
  },
  {
   "cell_type": "code",
   "execution_count": null,
   "metadata": {},
   "outputs": [],
   "source": [
    "base_url = \"[input base url]\"\n"
   ]
  },
  {
   "cell_type": "markdown",
   "metadata": {},
   "source": [
    "## Get Custom Max Scores\n",
    "### Use endpoint: LIST_WEEKS_ENDPOINT "
   ]
  },
  {
   "cell_type": "code",
   "execution_count": null,
   "metadata": {},
   "outputs": [
    {
     "ename": "JSONDecodeError",
     "evalue": "Expecting value: line 1 column 1 (char 0)",
     "output_type": "error",
     "traceback": [
      "\u001b[31m---------------------------------------------------------------------------\u001b[39m",
      "\u001b[31mJSONDecodeError\u001b[39m                           Traceback (most recent call last)",
      "\u001b[36mCell\u001b[39m\u001b[36m \u001b[39m\u001b[32mIn[4]\u001b[39m\u001b[32m, line 2\u001b[39m\n\u001b[32m      1\u001b[39m week_api_response = swc.call_api_endpoint(base_url,swc.LIST_WEEKS_ENDPOINT)\n\u001b[32m----> \u001b[39m\u001b[32m2\u001b[39m weeks_df = pd.DataFrame(\u001b[43mweek_api_response\u001b[49m\u001b[43m.\u001b[49m\u001b[43mjson\u001b[49m\u001b[43m(\u001b[49m\u001b[43m)\u001b[49m)\n\u001b[32m      3\u001b[39m weeks_df[\u001b[33m'\u001b[39m\u001b[33myear\u001b[39m\u001b[33m'\u001b[39m] = weeks_df[\u001b[33m'\u001b[39m\u001b[33mweek_number\u001b[39m\u001b[33m'\u001b[39m].str.slice(\u001b[32m0\u001b[39m, \u001b[32m4\u001b[39m).astype(\u001b[38;5;28mint\u001b[39m)\n\u001b[32m      4\u001b[39m weeks_df[\u001b[33m'\u001b[39m\u001b[33mweek\u001b[39m\u001b[33m'\u001b[39m] = weeks_df[\u001b[33m'\u001b[39m\u001b[33mweek_number\u001b[39m\u001b[33m'\u001b[39m].str.slice(\u001b[32m4\u001b[39m, \u001b[32m6\u001b[39m).astype(\u001b[38;5;28mint\u001b[39m)\n",
      "\u001b[36mFile \u001b[39m\u001b[32m/workspaces/analytics-project/.venv/lib/python3.12/site-packages/httpx/_models.py:832\u001b[39m, in \u001b[36mResponse.json\u001b[39m\u001b[34m(self, **kwargs)\u001b[39m\n\u001b[32m    831\u001b[39m \u001b[38;5;28;01mdef\u001b[39;00m\u001b[38;5;250m \u001b[39m\u001b[34mjson\u001b[39m(\u001b[38;5;28mself\u001b[39m, **kwargs: typing.Any) -> typing.Any:\n\u001b[32m--> \u001b[39m\u001b[32m832\u001b[39m     \u001b[38;5;28;01mreturn\u001b[39;00m \u001b[43mjsonlib\u001b[49m\u001b[43m.\u001b[49m\u001b[43mloads\u001b[49m\u001b[43m(\u001b[49m\u001b[38;5;28;43mself\u001b[39;49m\u001b[43m.\u001b[49m\u001b[43mcontent\u001b[49m\u001b[43m,\u001b[49m\u001b[43m \u001b[49m\u001b[43m*\u001b[49m\u001b[43m*\u001b[49m\u001b[43mkwargs\u001b[49m\u001b[43m)\u001b[49m\n",
      "\u001b[36mFile \u001b[39m\u001b[32m~/.python/current/lib/python3.12/json/__init__.py:346\u001b[39m, in \u001b[36mloads\u001b[39m\u001b[34m(s, cls, object_hook, parse_float, parse_int, parse_constant, object_pairs_hook, **kw)\u001b[39m\n\u001b[32m    341\u001b[39m     s = s.decode(detect_encoding(s), \u001b[33m'\u001b[39m\u001b[33msurrogatepass\u001b[39m\u001b[33m'\u001b[39m)\n\u001b[32m    343\u001b[39m \u001b[38;5;28;01mif\u001b[39;00m (\u001b[38;5;28mcls\u001b[39m \u001b[38;5;129;01mis\u001b[39;00m \u001b[38;5;28;01mNone\u001b[39;00m \u001b[38;5;129;01mand\u001b[39;00m object_hook \u001b[38;5;129;01mis\u001b[39;00m \u001b[38;5;28;01mNone\u001b[39;00m \u001b[38;5;129;01mand\u001b[39;00m\n\u001b[32m    344\u001b[39m         parse_int \u001b[38;5;129;01mis\u001b[39;00m \u001b[38;5;28;01mNone\u001b[39;00m \u001b[38;5;129;01mand\u001b[39;00m parse_float \u001b[38;5;129;01mis\u001b[39;00m \u001b[38;5;28;01mNone\u001b[39;00m \u001b[38;5;129;01mand\u001b[39;00m\n\u001b[32m    345\u001b[39m         parse_constant \u001b[38;5;129;01mis\u001b[39;00m \u001b[38;5;28;01mNone\u001b[39;00m \u001b[38;5;129;01mand\u001b[39;00m object_pairs_hook \u001b[38;5;129;01mis\u001b[39;00m \u001b[38;5;28;01mNone\u001b[39;00m \u001b[38;5;129;01mand\u001b[39;00m \u001b[38;5;129;01mnot\u001b[39;00m kw):\n\u001b[32m--> \u001b[39m\u001b[32m346\u001b[39m     \u001b[38;5;28;01mreturn\u001b[39;00m \u001b[43m_default_decoder\u001b[49m\u001b[43m.\u001b[49m\u001b[43mdecode\u001b[49m\u001b[43m(\u001b[49m\u001b[43ms\u001b[49m\u001b[43m)\u001b[49m\n\u001b[32m    347\u001b[39m \u001b[38;5;28;01mif\u001b[39;00m \u001b[38;5;28mcls\u001b[39m \u001b[38;5;129;01mis\u001b[39;00m \u001b[38;5;28;01mNone\u001b[39;00m:\n\u001b[32m    348\u001b[39m     \u001b[38;5;28mcls\u001b[39m = JSONDecoder\n",
      "\u001b[36mFile \u001b[39m\u001b[32m~/.python/current/lib/python3.12/json/decoder.py:337\u001b[39m, in \u001b[36mJSONDecoder.decode\u001b[39m\u001b[34m(self, s, _w)\u001b[39m\n\u001b[32m    332\u001b[39m \u001b[38;5;28;01mdef\u001b[39;00m\u001b[38;5;250m \u001b[39m\u001b[34mdecode\u001b[39m(\u001b[38;5;28mself\u001b[39m, s, _w=WHITESPACE.match):\n\u001b[32m    333\u001b[39m \u001b[38;5;250m    \u001b[39m\u001b[33;03m\"\"\"Return the Python representation of ``s`` (a ``str`` instance\u001b[39;00m\n\u001b[32m    334\u001b[39m \u001b[33;03m    containing a JSON document).\u001b[39;00m\n\u001b[32m    335\u001b[39m \n\u001b[32m    336\u001b[39m \u001b[33;03m    \"\"\"\u001b[39;00m\n\u001b[32m--> \u001b[39m\u001b[32m337\u001b[39m     obj, end = \u001b[38;5;28;43mself\u001b[39;49m\u001b[43m.\u001b[49m\u001b[43mraw_decode\u001b[49m\u001b[43m(\u001b[49m\u001b[43ms\u001b[49m\u001b[43m,\u001b[49m\u001b[43m \u001b[49m\u001b[43midx\u001b[49m\u001b[43m=\u001b[49m\u001b[43m_w\u001b[49m\u001b[43m(\u001b[49m\u001b[43ms\u001b[49m\u001b[43m,\u001b[49m\u001b[43m \u001b[49m\u001b[32;43m0\u001b[39;49m\u001b[43m)\u001b[49m\u001b[43m.\u001b[49m\u001b[43mend\u001b[49m\u001b[43m(\u001b[49m\u001b[43m)\u001b[49m\u001b[43m)\u001b[49m\n\u001b[32m    338\u001b[39m     end = _w(s, end).end()\n\u001b[32m    339\u001b[39m     \u001b[38;5;28;01mif\u001b[39;00m end != \u001b[38;5;28mlen\u001b[39m(s):\n",
      "\u001b[36mFile \u001b[39m\u001b[32m~/.python/current/lib/python3.12/json/decoder.py:355\u001b[39m, in \u001b[36mJSONDecoder.raw_decode\u001b[39m\u001b[34m(self, s, idx)\u001b[39m\n\u001b[32m    353\u001b[39m     obj, end = \u001b[38;5;28mself\u001b[39m.scan_once(s, idx)\n\u001b[32m    354\u001b[39m \u001b[38;5;28;01mexcept\u001b[39;00m \u001b[38;5;167;01mStopIteration\u001b[39;00m \u001b[38;5;28;01mas\u001b[39;00m err:\n\u001b[32m--> \u001b[39m\u001b[32m355\u001b[39m     \u001b[38;5;28;01mraise\u001b[39;00m JSONDecodeError(\u001b[33m\"\u001b[39m\u001b[33mExpecting value\u001b[39m\u001b[33m\"\u001b[39m, s, err.value) \u001b[38;5;28;01mfrom\u001b[39;00m\u001b[38;5;250m \u001b[39m\u001b[38;5;28;01mNone\u001b[39;00m\n\u001b[32m    356\u001b[39m \u001b[38;5;28;01mreturn\u001b[39;00m obj, end\n",
      "\u001b[31mJSONDecodeError\u001b[39m: Expecting value: line 1 column 1 (char 0)"
     ]
    },
    {
     "name": "stderr",
     "output_type": "stream",
     "text": [
      "Bad pipe message: %s [b'0.9,image/avif,image/webp,image/apng,*/*;q=0.8,application/signed-exchange;v=b3;q=0.7\\r\\nHost: localhost:37919\\r\\nUs', b'-Agent: Mozilla/5.0 (Windows NT 10.0; Win64; x64) AppleWebKit/537.36 (KHTML, like Gecko) Chrome/133.']\n",
      "Bad pipe message: %s [b'0.0 Safari/537.36\\r\\nAccept-Encoding: gzip, defla']\n",
      "Bad pipe message: %s [b', br, zstd\\r\\nAccept-Language: en-US,en;q=0.9\\r\\nCache-Control: max-age=0\\r\\nReferer: https://github.com/\\r\\nX-Request-ID: ', b'7b7b08739892cf5a20deb0eff1b404\\r\\nX-Real-IP: 95.223.', b'.132\\r\\nX-Forwarded-Port: 443\\r\\nX-Forwarded-Scheme: ht']\n",
      "Bad pipe message: %s [b's\\r\\nX-Original-URI: /\\r\\nX-Scheme: https\\r\\nDNT: 1\\r\\nsec-fetch-site: cross-site\\r\\nsec-fetch-mode: navigate\\r\\nsec-fetch-dest']\n",
      "Bad pipe message: %s [b'document\\r\\nsec-ch-ua: \"Not(A:Brand\";v=\"99\", \"Google Chrome']\n",
      "Bad pipe message: %s [b'v=\"133\", \"Chromium\";v=\"133\"\\r\\nsec-', b'-ua-mobile: ?0\\r\\nsec-ch-ua-platform: \"Windows\"\\r\\npriority: u=0, i\\r\\nX-Original-Proto: https\\r\\nX-Forwar']\n"
     ]
    }
   ],
   "source": [
    "week_api_response = swc.call_api_endpoint(base_url,swc.LIST_WEEKS_ENDPOINT)\n",
    "weeks_df = pd.DataFrame(week_api_response.json())\n",
    "weeks_df['year'] = weeks_df['week_number'].str.slice(0, 4).astype(int)\n",
    "weeks_df['week'] = weeks_df['week_number'].str.slice(4, 6).astype(int)\n",
    "\n",
    "weeks_df = weeks_df.query('week <= 14')\n",
    "\n",
    "max_totals_grouped_df = weeks_df.groupby('year').agg(\n",
    "    ppr_12_max_points=('ppr_12_max_points', 'sum'), \n",
    "    half_ppr_8_max_points=('half_ppr_8_max_points', 'sum'))\n",
    "\n",
    "display(max_totals_grouped_df)"
   ]
  },
  {
   "cell_type": "markdown",
   "metadata": {},
   "source": [
    "## Get League Scoring Type\n",
    "### Use Endpoint: LIST_LEAGUES_ENDPOINT"
   ]
  },
  {
   "cell_type": "code",
   "execution_count": null,
   "metadata": {},
   "outputs": [],
   "source": [
    "league_api_response = swc.call_api_endpoint(base_url,swc.LIST_LEAGUES_ENDPOINT)\n",
    "leagues_df = pd.DataFrame(league_api_response.json())\n",
    "leagues_df = leagues_df.drop(columns=['teams','last_changed_date'])\n",
    "display(leagues_df)"
   ]
  },
  {
   "cell_type": "markdown",
   "metadata": {},
   "source": [
    "## Get Regular Season Scoring Totals - By Team\n",
    "### Use Endpoint: LIST_TEAMS_ENDPOINT"
   ]
  },
  {
   "cell_type": "code",
   "execution_count": null,
   "metadata": {},
   "outputs": [],
   "source": [
    "team_api_response = swc.call_api_endpoint(base_url,swc.LIST_TEAMS_ENDPOINT)\n",
    "\n",
    "teams_parsed_df = pd.json_normalize(team_api_response.json(), 'weekly_scores', \n",
    "                                    ['league_id', 'team_id', 'team_name'])\n",
    "\n",
    "teams_parsed_df['year'] = (teams_parsed_df['week_number']\n",
    "                           .str.slice(0, 4).astype(int))\n",
    "teams_parsed_df['week'] = (teams_parsed_df['week_number']\n",
    "                           .str.slice(4, 6).astype(int))\n",
    "\n",
    "#get only regular season teams\n",
    "teams_regular_season_df = teams_parsed_df.query('week <= 14')\n",
    "\n",
    "#get team season totals\n",
    "team_totals_df = teams_regular_season_df.groupby(\n",
    "    ['league_id', 'team_id', 'year'], as_index = False\n",
    "    )['fantasy_points'].sum()\n",
    "\n",
    "team_totals_df.head()"
   ]
  },
  {
   "cell_type": "markdown",
   "metadata": {},
   "source": [
    "## League Balance Score\n",
    "### Using Coefficient of Variation (CV) of league regular season totals"
   ]
  },
  {
   "cell_type": "code",
   "execution_count": null,
   "metadata": {},
   "outputs": [],
   "source": [
    "league_stats_df = team_totals_df.groupby(['league_id','year']).agg(\n",
    "    league_points_sum=('fantasy_points', 'sum'),\n",
    "    league_points_mean=('fantasy_points', 'mean'),\n",
    "    league_points_stdev=('fantasy_points', 'std'),\n",
    "    league_balance_score=('fantasy_points', \n",
    "                          lambda x: (100 -(x.std() / x.mean()) * 100))\n",
    ").reset_index()\n",
    "\n",
    "display(league_stats_df.sort_values(by='league_balance_score', ascending=False))"
   ]
  },
  {
   "cell_type": "markdown",
   "metadata": {},
   "source": [
    "## League Juice Score\n",
    "### Compare league scoring to max potential scoring"
   ]
  },
  {
   "cell_type": "code",
   "execution_count": null,
   "metadata": {},
   "outputs": [],
   "source": [
    "league_stats_with_league_max_df = (league_stats_df[\n",
    "    ['league_id','year', 'league_points_sum','league_balance_score']]\n",
    "               .merge(max_totals_grouped_df,left_on = 'year', right_on='year'))\n",
    "\n",
    "combined_metrics_df = (leagues_df[\n",
    "    ['league_id','league_name','scoring_type', 'league_size']]\n",
    "    .merge(league_stats_with_league_max_df, \n",
    "           left_on = 'league_id', right_on = 'league_id'))\n",
    "\n",
    "combined_metrics_df['league_juice_score'] = combined_metrics_df.apply(\n",
    "    lambda row: (\n",
    "        100 * (row['league_points_sum'] / row['ppr_12_max_points'])\n",
    "        if (row['scoring_type'] == 'PPR' and row['league_size'] == 12) \n",
    "        else (\n",
    "            100 * (row['league_points_sum'] / row['half_ppr_8_max_points'])\n",
    "            if (row['scoring_type'] == 'Half-PPR' and row['league_size'] == 8) \n",
    "            else None\n",
    "        )\n",
    "    ),\n",
    "    axis=1\n",
    ")\n",
    "\n",
    "combined_metrics_df = (combined_metrics_df.drop(\n",
    "    columns=['scoring_type','league_size','league_points_sum'\n",
    "             ,'ppr_12_max_points','half_ppr_8_max_points',] )\n",
    ")\n",
    "display(combined_metrics_df)"
   ]
  },
  {
   "cell_type": "markdown",
   "metadata": {},
   "source": [
    "# Create Shark League Score\n",
    "## Shark League Score = (2 * League Juice Score) + League Balance Score"
   ]
  },
  {
   "cell_type": "code",
   "execution_count": null,
   "metadata": {},
   "outputs": [],
   "source": [
    "combined_metrics_df['shark_league_score'] = combined_metrics_df.apply(\n",
    "    lambda league: (2 * league['league_juice_score']) +  league['league_balance_score'],\n",
    "    axis=1\n",
    ")\n",
    "display(combined_metrics_df.sort_values(by='shark_league_score', ascending=False))"
   ]
  },
  {
   "cell_type": "code",
   "execution_count": null,
   "metadata": {},
   "outputs": [],
   "source": []
  }
 ],
 "metadata": {
  "kernelspec": {
   "display_name": ".venv",
   "language": "python",
   "name": "python3"
  },
  "language_info": {
   "codemirror_mode": {
    "name": "ipython",
    "version": 3
   },
   "file_extension": ".py",
   "mimetype": "text/x-python",
   "name": "python",
   "nbconvert_exporter": "python",
   "pygments_lexer": "ipython3",
   "version": "3.12.1"
  }
 },
 "nbformat": 4,
 "nbformat_minor": 2
}
